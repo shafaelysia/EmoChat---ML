{
 "cells": [
  {
   "cell_type": "markdown",
   "id": "b3e310f8",
   "metadata": {},
   "source": [
    "# Import Libraries"
   ]
  },
  {
   "cell_type": "code",
   "execution_count": null,
   "id": "787208b1",
   "metadata": {},
   "outputs": [],
   "source": [
    "import pickle\n",
    "import librosa\n",
    "import numpy as np\n",
    "import sounddevice as sd\n",
    "import scipy.io.wavfile as wav\n",
    "import IPython.display as ipd"
   ]
  },
  {
   "cell_type": "markdown",
   "id": "65cca611",
   "metadata": {},
   "source": [
    "# Load Model"
   ]
  },
  {
   "cell_type": "code",
   "execution_count": null,
   "id": "b0e8f5b8",
   "metadata": {},
   "outputs": [],
   "source": [
    "model_path = 'model.pkl'\n",
    "with open(model_path, 'rb') as f:\n",
    "    model = pickle.load(f)"
   ]
  },
  {
   "cell_type": "markdown",
   "id": "22ac7abf",
   "metadata": {},
   "source": [
    "# Preprocess & Prediction Functions"
   ]
  },
  {
   "cell_type": "code",
   "execution_count": null,
   "id": "4317c6eb",
   "metadata": {},
   "outputs": [],
   "source": [
    "def preprocess_data(file_path):\n",
    "    \n",
    "    # Check file extension\n",
    "    audio_extensions = ['wav', 'mp3', 'flac']\n",
    "    file_extension = file_path.split('.')[-1]\n",
    "    if file_extension not in audio_extensions:\n",
    "        print('File format is: {}'.format(file_extension))\n",
    "        return print(\"File format not supported\")\n",
    "    \n",
    "    # Load audio file\n",
    "    signal, sr = librosa.load(file_path, sr=44100)\n",
    "    \n",
    "    # Extract MFCC\n",
    "    mfcc = librosa.feature.mfcc(y=signal,\n",
    "                                sr=sr,\n",
    "                                n_mfcc=13,\n",
    "                                n_fft=2048)\n",
    "\n",
    "    # Normalize and transpose MFCC\n",
    "    mfcc = (mfcc - np.mean(mfcc)) / np.std(mfcc)\n",
    "    mfcc = mfcc.T\n",
    "    \n",
    "    # Pad or truncate MFCC\n",
    "    num_mfcc = 13\n",
    "    target_length = 615\n",
    "\n",
    "    # Check the length of MFCC\n",
    "    mfcc_length = len(mfcc)\n",
    "\n",
    "    if mfcc_length < target_length:\n",
    "        # Calculate the number of additional arrays needed\n",
    "        num_additional_arrays = target_length - mfcc_length\n",
    "\n",
    "        # Create an empty array with the shape (num_additional_arrays, num_mfcc)\n",
    "        empty_arrays = np.zeros((num_additional_arrays, num_mfcc))\n",
    "\n",
    "        # Concatenate the empty arrays to MFCC\n",
    "        input_data = np.concatenate((mfcc, empty_arrays), axis=0)\n",
    "    elif mfcc_length > target_length:\n",
    "        # Truncate the mfcc array to the target length\n",
    "        input_data = mfcc[:target_length]\n",
    "    else:\n",
    "        input_data = np.array(mfcc)\n",
    "    \n",
    "    # Reshape MFCC to fit model's input size\n",
    "    input_data = np.reshape(input_data, (615, 13, 1))\n",
    "    input_data = np.expand_dims(input_data, axis=0)\n",
    "    print('input data: {}'.format(input_data.shape))\n",
    "    \n",
    "    return input_data"
   ]
  },
  {
   "cell_type": "code",
   "execution_count": null,
   "id": "d3a7a191",
   "metadata": {},
   "outputs": [],
   "source": [
    "def predict_emotion(input_data):\n",
    "    \n",
    "    # Make prediction\n",
    "    predictions = model.predict(input_data)\n",
    "    predicted_label = np.argmax(predictions)\n",
    "    emotion_labels = ['neutral','happy','sad','angry','fearful','disgust']\n",
    "    predicted_emotion = emotion_labels[predicted_label]\n",
    "    \n",
    "    return predicted_emotion"
   ]
  },
  {
   "cell_type": "markdown",
   "id": "fb1f8a73",
   "metadata": {},
   "source": [
    "# Predict from Audio Files"
   ]
  },
  {
   "cell_type": "code",
   "execution_count": null,
   "id": "48f40641",
   "metadata": {},
   "outputs": [],
   "source": [
    "# Path of audio file\n",
    "audio_path = 'audio.wav'\n",
    "\n",
    "# Display the uploaded audio\n",
    "ipd.display(ipd.Audio(audio_path))"
   ]
  },
  {
   "cell_type": "code",
   "execution_count": null,
   "id": "f20114c4",
   "metadata": {},
   "outputs": [],
   "source": [
    "input_data = preprocess_data(audio_path)"
   ]
  },
  {
   "cell_type": "code",
   "execution_count": null,
   "id": "55b18b70",
   "metadata": {},
   "outputs": [],
   "source": [
    "predicted_emotion = predict_emotion(input_data)\n",
    "print(predicted_emotion)"
   ]
  },
  {
   "cell_type": "markdown",
   "id": "47fa2321",
   "metadata": {},
   "source": [
    "# Predict from Recorded Audio"
   ]
  },
  {
   "cell_type": "code",
   "execution_count": null,
   "id": "ca09da45",
   "metadata": {},
   "outputs": [],
   "source": [
    "def record_audio(ouput_file, duration=5, sr=44100):\n",
    "    \n",
    "    # Record audio\n",
    "    print(\"Recording audio for {} seconds...\".format(duration))\n",
    "    audio = sd.rec(int(duration *sr), samplerate=sr, channels=1)\n",
    "    sd.wait()\n",
    "    \n",
    "    # Save audio as wav\n",
    "    wav.write(ouput_file, sr, audio.flatten())\n",
    "    \n",
    "    # Display the uploaded audio\n",
    "    ipd.display(ipd.Audio(ouput_file))"
   ]
  },
  {
   "cell_type": "code",
   "execution_count": null,
   "id": "6bf3db4f",
   "metadata": {},
   "outputs": [],
   "source": [
    "output_file = 'recorded_audio.wav'\n",
    "record_audio(output_file)"
   ]
  },
  {
   "cell_type": "code",
   "execution_count": null,
   "id": "c8fe0681",
   "metadata": {},
   "outputs": [],
   "source": [
    "input_data = preprocess_data(output_file)"
   ]
  },
  {
   "cell_type": "code",
   "execution_count": null,
   "id": "90403e0b",
   "metadata": {},
   "outputs": [],
   "source": [
    "predicted_emotion = predict_emotion(input_data)\n",
    "print(predicted_emotion)"
   ]
  }
 ],
 "metadata": {
  "kernelspec": {
   "display_name": "Python 3 (ipykernel)",
   "language": "python",
   "name": "python3"
  },
  "language_info": {
   "codemirror_mode": {
    "name": "ipython",
    "version": 3
   },
   "file_extension": ".py",
   "mimetype": "text/x-python",
   "name": "python",
   "nbconvert_exporter": "python",
   "pygments_lexer": "ipython3",
   "version": "3.10.9"
  }
 },
 "nbformat": 4,
 "nbformat_minor": 5
}
