{
 "cells": [
  {
   "cell_type": "markdown",
   "id": "49dccedf",
   "metadata": {},
   "source": [
    "# Speech Emotion Recognition Model"
   ]
  },
  {
   "cell_type": "markdown",
   "id": "023e89ce",
   "metadata": {},
   "source": [
    "## 1. Import Libraries"
   ]
  },
  {
   "cell_type": "code",
   "execution_count": 1,
   "id": "6c6d0998",
   "metadata": {},
   "outputs": [],
   "source": [
    "import json\n",
    "import pickle\n",
    "import numpy as np\n",
    "from sklearn.model_selection import train_test_split\n",
    "import tensorflow as tf\n",
    "from tensorflow.keras.preprocessing.sequence import pad_sequences"
   ]
  },
  {
   "cell_type": "markdown",
   "id": "965e536e",
   "metadata": {},
   "source": [
    "## 2. Load Dataset"
   ]
  },
  {
   "cell_type": "code",
   "execution_count": 2,
   "id": "b531f41e",
   "metadata": {},
   "outputs": [],
   "source": [
    "def load_data(path):\n",
    "    with open(path, 'r') as file:\n",
    "        data = json.load(file)\n",
    "\n",
    "    X = data['mfcc']\n",
    "    y = np.array(data['label'])\n",
    "    \n",
    "    max_length = max(len(arr) for arr in X)\n",
    "    padded_mfcc = pad_sequences(X, maxlen=max_length, padding='post', truncating='post')\n",
    "    X = np.array(padded_mfcc)\n",
    "    \n",
    "    return X, y"
   ]
  },
  {
   "cell_type": "code",
   "execution_count": 3,
   "id": "bcb341bd",
   "metadata": {},
   "outputs": [],
   "source": [
    "# Path to json file\n",
    "file_path = 'data.json'\n",
    "\n",
    "# Load dataset\n",
    "X, y = load_data(file_path)"
   ]
  },
  {
   "cell_type": "code",
   "execution_count": 4,
   "id": "91088008",
   "metadata": {},
   "outputs": [
    {
     "name": "stdout",
     "output_type": "stream",
     "text": [
      "(11318, 615, 13)\n"
     ]
    }
   ],
   "source": [
    "print(X.shape)"
   ]
  },
  {
   "cell_type": "markdown",
   "id": "3fccf65b",
   "metadata": {},
   "source": [
    "## 3. Prepare Dataset"
   ]
  },
  {
   "cell_type": "code",
   "execution_count": 5,
   "id": "391d2783",
   "metadata": {},
   "outputs": [],
   "source": [
    "def prepare_dataset(X, y, test_size, validation_size):\n",
    "    # Split data\n",
    "    X_train, X_test, y_train, y_test = train_test_split(X, y, test_size=test_size)\n",
    "    X_train, X_val, y_train, y_val = train_test_split(X_train, y_train, test_size=validation_size)\n",
    "\n",
    "    # Normalize data\n",
    "    mean = np.mean(X, axis=0)\n",
    "    std = np.std(X, axis=0)\n",
    "\n",
    "    std = np.where(std == 0, 1e-8, std)\n",
    "    \n",
    "    X_train = (X_train - mean)/std\n",
    "    X_val = (X_val - mean)/std\n",
    "    X_test = (X_test - mean)/std\n",
    "\n",
    "    # Add new axis to X\n",
    "    X_train= X_train[..., np.newaxis] \n",
    "    X_val = X_val[..., np.newaxis] \n",
    "    X_test = X_test[..., np.newaxis] \n",
    "    \n",
    "    # One hot encoding\n",
    "    y_train_encoded = tf.keras.utils.to_categorical(y_train)\n",
    "    y_val_encoded = tf.keras.utils.to_categorical(y_val)\n",
    "    y_test_encoded = tf.keras.utils.to_categorical(y_test)\n",
    "    \n",
    "    \n",
    "    return X_train, X_val, X_test, y_train_encoded, y_val_encoded, y_test_encoded"
   ]
  },
  {
   "cell_type": "code",
   "execution_count": 6,
   "id": "43751b7c",
   "metadata": {},
   "outputs": [],
   "source": [
    "X_train, X_val, X_test, y_train, y_val, y_test = prepare_dataset(X, y, 0.2, 0.2)\n"
   ]
  },
  {
   "cell_type": "markdown",
   "id": "48349b2f",
   "metadata": {},
   "source": [
    "## 4. Build and Train Model"
   ]
  },
  {
   "cell_type": "code",
   "execution_count": 7,
   "id": "a12d2cad",
   "metadata": {},
   "outputs": [
    {
     "name": "stdout",
     "output_type": "stream",
     "text": [
      "615 13 1\n",
      "(615, 13, 1)\n",
      "(7243, 6)\n"
     ]
    }
   ],
   "source": [
    "input_shape = (X_train.shape[1], X_train.shape[2], X_train.shape[3])\n",
    "print(X_val.shape[1], X_val.shape[2], X_val.shape[3])\n",
    "print(input_shape)\n",
    "print(y_train.shape) "
   ]
  },
  {
   "cell_type": "code",
   "execution_count": 37,
   "id": "c993cbdb",
   "metadata": {},
   "outputs": [
    {
     "name": "stdout",
     "output_type": "stream",
     "text": [
      "Model: \"sequential_11\"\n",
      "_________________________________________________________________\n",
      " Layer (type)                Output Shape              Param #   \n",
      "=================================================================\n",
      " conv2d_32 (Conv2D)          (None, 612, 12, 32)       288       \n",
      "                                                                 \n",
      " max_pooling2d_30 (MaxPoolin  (None, 306, 6, 32)       0         \n",
      " g2D)                                                            \n",
      "                                                                 \n",
      " batch_normalization_38 (Bat  (None, 306, 6, 32)       128       \n",
      " chNormalization)                                                \n",
      "                                                                 \n",
      " dropout_39 (Dropout)        (None, 306, 6, 32)        0         \n",
      "                                                                 \n",
      " conv2d_33 (Conv2D)          (None, 303, 5, 64)        16448     \n",
      "                                                                 \n",
      " max_pooling2d_31 (MaxPoolin  (None, 152, 3, 64)       0         \n",
      " g2D)                                                            \n",
      "                                                                 \n",
      " batch_normalization_39 (Bat  (None, 152, 3, 64)       256       \n",
      " chNormalization)                                                \n",
      "                                                                 \n",
      " dropout_40 (Dropout)        (None, 152, 3, 64)        0         \n",
      "                                                                 \n",
      " conv2d_34 (Conv2D)          (None, 149, 2, 128)       65664     \n",
      "                                                                 \n",
      " max_pooling2d_32 (MaxPoolin  (None, 75, 1, 128)       0         \n",
      " g2D)                                                            \n",
      "                                                                 \n",
      " batch_normalization_40 (Bat  (None, 75, 1, 128)       512       \n",
      " chNormalization)                                                \n",
      "                                                                 \n",
      " dropout_41 (Dropout)        (None, 75, 1, 128)        0         \n",
      "                                                                 \n",
      " time_distributed_9 (TimeDis  (None, 75, 128)          0         \n",
      " tributed)                                                       \n",
      "                                                                 \n",
      " lstm_9 (LSTM)               (None, 75, 64)            49408     \n",
      "                                                                 \n",
      " batch_normalization_41 (Bat  (None, 75, 64)           256       \n",
      " chNormalization)                                                \n",
      "                                                                 \n",
      " flatten_19 (Flatten)        (None, 4800)              0         \n",
      "                                                                 \n",
      " dropout_42 (Dropout)        (None, 4800)              0         \n",
      "                                                                 \n",
      " dense_30 (Dense)            (None, 64)                307264    \n",
      "                                                                 \n",
      " dense_31 (Dense)            (None, 6)                 390       \n",
      "                                                                 \n",
      "=================================================================\n",
      "Total params: 440,614\n",
      "Trainable params: 440,038\n",
      "Non-trainable params: 576\n",
      "_________________________________________________________________\n"
     ]
    }
   ],
   "source": [
    "model = tf.keras.Sequential()\n",
    "\n",
    "# 1st CNN Layer\n",
    "model.add(tf.keras.layers.Conv2D(32, (4,2), activation='relu', input_shape=input_shape))\n",
    "model.add(tf.keras.layers.MaxPool2D((2,2), padding='same'))\n",
    "model.add(tf.keras.layers.BatchNormalization())\n",
    "model.add(tf.keras.layers.Dropout(0.3))\n",
    "\n",
    "# 2nd CNN Layer\n",
    "model.add(tf.keras.layers.Conv2D(64, (4,2), activation='relu'))\n",
    "model.add(tf.keras.layers.MaxPool2D((2,2), padding='same'))\n",
    "model.add(tf.keras.layers.BatchNormalization())\n",
    "model.add(tf.keras.layers.Dropout(0.3))\n",
    "\n",
    "# 3rd CNN Layer\n",
    "model.add(tf.keras.layers.Conv2D(128, (4,2), activation='relu'))\n",
    "model.add(tf.keras.layers.MaxPool2D((2,2), padding='same', strides=(2,2)))\n",
    "model.add(tf.keras.layers.BatchNormalization())\n",
    "model.add(tf.keras.layers.Dropout(0.3))\n",
    "\n",
    "\n",
    "# RNN Layer\n",
    "model.add(tf.keras.layers.TimeDistributed(tf.keras.layers.Flatten()))\n",
    "model.add(tf.keras.layers.LSTM(64, return_sequences=True))\n",
    "model.add(tf.keras.layers.BatchNormalization())\n",
    "model.add(tf.keras.layers.Flatten())\n",
    "\n",
    "# Dense Layer\n",
    "model.add(tf.keras.layers.Dropout(0.3))\n",
    "model.add(tf.keras.layers.Dense(64, activation='relu', kernel_regularizer=tf.keras.regularizers.L1L2(0.01)))\n",
    "\n",
    "# Output Layer\n",
    "model.add(tf.keras.layers.Dense(6, activation='softmax'))\n",
    "\n",
    "model.summary()\n"
   ]
  },
  {
   "cell_type": "code",
   "execution_count": 38,
   "id": "86ce1f31",
   "metadata": {},
   "outputs": [],
   "source": [
    "optimizer = tf.keras.optimizers.Adam(learning_rate=0.001)\n",
    "\n",
    "model.compile(optimizer=optimizer,\n",
    "             loss='categorical_crossentropy',\n",
    "             metrics=['accuracy'])"
   ]
  },
  {
   "cell_type": "code",
   "execution_count": 39,
   "id": "f4615b37",
   "metadata": {},
   "outputs": [
    {
     "name": "stdout",
     "output_type": "stream",
     "text": [
      "Epoch 1/100\n",
      "227/227 [==============================] - 95s 399ms/step - loss: 9.2332 - accuracy: 0.3401 - val_loss: 3.9042 - val_accuracy: 0.1679\n",
      "Epoch 2/100\n",
      "227/227 [==============================] - 92s 404ms/step - loss: 3.1420 - accuracy: 0.4596 - val_loss: 3.3580 - val_accuracy: 0.2904\n",
      "Epoch 3/100\n",
      "227/227 [==============================] - 94s 415ms/step - loss: 2.8290 - accuracy: 0.5086 - val_loss: 2.8230 - val_accuracy: 0.5119\n",
      "Epoch 4/100\n",
      "227/227 [==============================] - 93s 411ms/step - loss: 2.6332 - accuracy: 0.5329 - val_loss: 2.4984 - val_accuracy: 0.4975\n",
      "Epoch 5/100\n",
      "227/227 [==============================] - 93s 411ms/step - loss: 2.4445 - accuracy: 0.5387 - val_loss: 2.4261 - val_accuracy: 0.5516\n",
      "Epoch 6/100\n",
      "227/227 [==============================] - 95s 419ms/step - loss: 2.3047 - accuracy: 0.5618 - val_loss: 2.2668 - val_accuracy: 0.5665\n",
      "Epoch 7/100\n",
      "227/227 [==============================] - 95s 418ms/step - loss: 2.1928 - accuracy: 0.5761 - val_loss: 2.2229 - val_accuracy: 0.5748\n",
      "Epoch 8/100\n",
      "227/227 [==============================] - 96s 424ms/step - loss: 2.1706 - accuracy: 0.5788 - val_loss: 2.1249 - val_accuracy: 0.5704\n",
      "Epoch 9/100\n",
      "227/227 [==============================] - 96s 422ms/step - loss: 2.1064 - accuracy: 0.5966 - val_loss: 2.1136 - val_accuracy: 0.5980\n",
      "Epoch 10/100\n",
      "227/227 [==============================] - 96s 425ms/step - loss: 2.0780 - accuracy: 0.5926 - val_loss: 2.0724 - val_accuracy: 0.5649\n",
      "Epoch 11/100\n",
      "227/227 [==============================] - 96s 422ms/step - loss: 1.9872 - accuracy: 0.6137 - val_loss: 2.1832 - val_accuracy: 0.5157\n",
      "Epoch 12/100\n",
      "227/227 [==============================] - 96s 424ms/step - loss: 1.9678 - accuracy: 0.6148 - val_loss: 1.9948 - val_accuracy: 0.6212\n",
      "Epoch 13/100\n",
      "227/227 [==============================] - 96s 424ms/step - loss: 1.9409 - accuracy: 0.6279 - val_loss: 2.0102 - val_accuracy: 0.6068\n",
      "Epoch 14/100\n",
      "227/227 [==============================] - 96s 425ms/step - loss: 1.9061 - accuracy: 0.6369 - val_loss: 2.0227 - val_accuracy: 0.5820\n",
      "Epoch 15/100\n",
      "227/227 [==============================] - 98s 433ms/step - loss: 1.8799 - accuracy: 0.6406 - val_loss: 1.9147 - val_accuracy: 0.6444\n",
      "Epoch 16/100\n",
      "227/227 [==============================] - 97s 427ms/step - loss: 1.8628 - accuracy: 0.6562 - val_loss: 1.9248 - val_accuracy: 0.6273\n",
      "Epoch 17/100\n",
      "227/227 [==============================] - 97s 427ms/step - loss: 1.8216 - accuracy: 0.6590 - val_loss: 2.0446 - val_accuracy: 0.5908\n",
      "Epoch 18/100\n",
      "227/227 [==============================] - 96s 425ms/step - loss: 1.8113 - accuracy: 0.6651 - val_loss: 1.9065 - val_accuracy: 0.6289\n",
      "Epoch 19/100\n",
      "227/227 [==============================] - 97s 428ms/step - loss: 1.8022 - accuracy: 0.6673 - val_loss: 1.9371 - val_accuracy: 0.6162\n",
      "Epoch 20/100\n",
      "227/227 [==============================] - 96s 424ms/step - loss: 1.7667 - accuracy: 0.6699 - val_loss: 1.9499 - val_accuracy: 0.6151\n",
      "Epoch 21/100\n",
      "227/227 [==============================] - 97s 426ms/step - loss: 1.7433 - accuracy: 0.6827 - val_loss: 1.8369 - val_accuracy: 0.6499\n",
      "Epoch 22/100\n",
      "227/227 [==============================] - 97s 429ms/step - loss: 1.7497 - accuracy: 0.6838 - val_loss: 1.9057 - val_accuracy: 0.6278\n",
      "Epoch 23/100\n",
      "227/227 [==============================] - 97s 429ms/step - loss: 1.7109 - accuracy: 0.6945 - val_loss: 1.8842 - val_accuracy: 0.6345\n",
      "Epoch 24/100\n",
      "227/227 [==============================] - 97s 427ms/step - loss: 1.6764 - accuracy: 0.6998 - val_loss: 1.8380 - val_accuracy: 0.6427\n",
      "Epoch 25/100\n",
      "227/227 [==============================] - 97s 425ms/step - loss: 1.6678 - accuracy: 0.7041 - val_loss: 1.8185 - val_accuracy: 0.6532\n",
      "Epoch 26/100\n",
      "227/227 [==============================] - 97s 428ms/step - loss: 1.6725 - accuracy: 0.7044 - val_loss: 1.8134 - val_accuracy: 0.6405\n",
      "Epoch 27/100\n",
      "227/227 [==============================] - 97s 427ms/step - loss: 1.6471 - accuracy: 0.7036 - val_loss: 1.8100 - val_accuracy: 0.6433\n",
      "Epoch 28/100\n",
      "227/227 [==============================] - 97s 425ms/step - loss: 1.6267 - accuracy: 0.7132 - val_loss: 1.7906 - val_accuracy: 0.6632\n",
      "Epoch 29/100\n",
      "227/227 [==============================] - 97s 427ms/step - loss: 1.6183 - accuracy: 0.7163 - val_loss: 1.8600 - val_accuracy: 0.6091\n",
      "Epoch 30/100\n",
      "227/227 [==============================] - 97s 426ms/step - loss: 1.6081 - accuracy: 0.7195 - val_loss: 1.8184 - val_accuracy: 0.6461\n",
      "Epoch 31/100\n",
      "227/227 [==============================] - 97s 426ms/step - loss: 1.5592 - accuracy: 0.7277 - val_loss: 1.7967 - val_accuracy: 0.6516\n",
      "Epoch 32/100\n",
      "227/227 [==============================] - 97s 427ms/step - loss: 1.5455 - accuracy: 0.7352 - val_loss: 1.7299 - val_accuracy: 0.6632\n",
      "Epoch 33/100\n",
      "227/227 [==============================] - 97s 427ms/step - loss: 1.5217 - accuracy: 0.7415 - val_loss: 1.7466 - val_accuracy: 0.6797\n",
      "Epoch 34/100\n",
      "227/227 [==============================] - 97s 428ms/step - loss: 1.5567 - accuracy: 0.7304 - val_loss: 1.7775 - val_accuracy: 0.6576\n",
      "Epoch 35/100\n",
      "227/227 [==============================] - 97s 426ms/step - loss: 1.5265 - accuracy: 0.7395 - val_loss: 1.8330 - val_accuracy: 0.6488\n",
      "Epoch 36/100\n",
      "227/227 [==============================] - 97s 427ms/step - loss: 1.4994 - accuracy: 0.7446 - val_loss: 1.8183 - val_accuracy: 0.6477\n",
      "Epoch 37/100\n",
      "227/227 [==============================] - 97s 427ms/step - loss: 1.4949 - accuracy: 0.7480 - val_loss: 1.7339 - val_accuracy: 0.6692\n",
      "Epoch 38/100\n",
      "227/227 [==============================] - 96s 425ms/step - loss: 1.5209 - accuracy: 0.7381 - val_loss: 1.7973 - val_accuracy: 0.6571\n",
      "Epoch 39/100\n",
      "227/227 [==============================] - 97s 427ms/step - loss: 1.4784 - accuracy: 0.7566 - val_loss: 1.8783 - val_accuracy: 0.6444\n",
      "Epoch 40/100\n",
      "227/227 [==============================] - 97s 429ms/step - loss: 1.4857 - accuracy: 0.7545 - val_loss: 1.7278 - val_accuracy: 0.6731\n",
      "Epoch 41/100\n",
      "227/227 [==============================] - 97s 429ms/step - loss: 1.4517 - accuracy: 0.7563 - val_loss: 1.7533 - val_accuracy: 0.6427\n",
      "Epoch 42/100\n",
      "227/227 [==============================] - 98s 430ms/step - loss: 1.4464 - accuracy: 0.7594 - val_loss: 1.7301 - val_accuracy: 0.6637\n",
      "Epoch 43/100\n",
      "227/227 [==============================] - 98s 430ms/step - loss: 1.4145 - accuracy: 0.7617 - val_loss: 1.8123 - val_accuracy: 0.6400\n",
      "Epoch 44/100\n",
      "227/227 [==============================] - 96s 424ms/step - loss: 1.4392 - accuracy: 0.7638 - val_loss: 1.7143 - val_accuracy: 0.6720\n",
      "Epoch 45/100\n",
      "227/227 [==============================] - 97s 427ms/step - loss: 1.4283 - accuracy: 0.7640 - val_loss: 1.8000 - val_accuracy: 0.6549\n",
      "Epoch 46/100\n",
      "227/227 [==============================] - 99s 436ms/step - loss: 1.3814 - accuracy: 0.7748 - val_loss: 1.7348 - val_accuracy: 0.6670\n",
      "Epoch 47/100\n",
      "227/227 [==============================] - 97s 429ms/step - loss: 1.3872 - accuracy: 0.7751 - val_loss: 1.8088 - val_accuracy: 0.6472\n",
      "Epoch 48/100\n",
      "227/227 [==============================] - 97s 428ms/step - loss: 1.3526 - accuracy: 0.7754 - val_loss: 1.7129 - val_accuracy: 0.6532\n",
      "Epoch 49/100\n",
      "227/227 [==============================] - 96s 424ms/step - loss: 1.3384 - accuracy: 0.7857 - val_loss: 1.7247 - val_accuracy: 0.6488\n",
      "Epoch 50/100\n",
      "227/227 [==============================] - 97s 427ms/step - loss: 1.3717 - accuracy: 0.7776 - val_loss: 1.7677 - val_accuracy: 0.6449\n",
      "Epoch 51/100\n",
      "227/227 [==============================] - 97s 427ms/step - loss: 1.3158 - accuracy: 0.7977 - val_loss: 1.6634 - val_accuracy: 0.6643\n",
      "Epoch 52/100\n",
      "227/227 [==============================] - 97s 426ms/step - loss: 1.3459 - accuracy: 0.7853 - val_loss: 1.7095 - val_accuracy: 0.6720\n",
      "Epoch 53/100\n",
      "227/227 [==============================] - 96s 425ms/step - loss: 1.3124 - accuracy: 0.7908 - val_loss: 1.7206 - val_accuracy: 0.6543\n",
      "Epoch 54/100\n",
      "227/227 [==============================] - 97s 426ms/step - loss: 1.2918 - accuracy: 0.7940 - val_loss: 1.6992 - val_accuracy: 0.6819\n",
      "Epoch 55/100\n",
      "227/227 [==============================] - 96s 424ms/step - loss: 1.3097 - accuracy: 0.7959 - val_loss: 1.7325 - val_accuracy: 0.6576\n",
      "Epoch 56/100\n",
      "227/227 [==============================] - 95s 420ms/step - loss: 1.2941 - accuracy: 0.7976 - val_loss: 1.7557 - val_accuracy: 0.6588\n"
     ]
    },
    {
     "name": "stdout",
     "output_type": "stream",
     "text": [
      "Epoch 57/100\n",
      "227/227 [==============================] - 95s 420ms/step - loss: 1.2732 - accuracy: 0.8008 - val_loss: 1.7755 - val_accuracy: 0.6560\n",
      "Epoch 58/100\n",
      "227/227 [==============================] - 94s 414ms/step - loss: 1.2995 - accuracy: 0.7962 - val_loss: 1.7557 - val_accuracy: 0.6726\n",
      "Epoch 59/100\n",
      "227/227 [==============================] - 94s 415ms/step - loss: 1.2561 - accuracy: 0.8053 - val_loss: 1.7219 - val_accuracy: 0.6726\n",
      "Epoch 60/100\n",
      "227/227 [==============================] - 96s 421ms/step - loss: 1.2875 - accuracy: 0.8035 - val_loss: 1.7688 - val_accuracy: 0.6632\n",
      "Epoch 61/100\n",
      "227/227 [==============================] - 94s 415ms/step - loss: 1.2437 - accuracy: 0.8114 - val_loss: 1.8391 - val_accuracy: 0.6494\n",
      "Epoch 62/100\n",
      "227/227 [==============================] - 94s 416ms/step - loss: 1.2442 - accuracy: 0.8060 - val_loss: 1.7235 - val_accuracy: 0.6786\n",
      "Epoch 63/100\n",
      "227/227 [==============================] - 95s 418ms/step - loss: 1.2476 - accuracy: 0.8045 - val_loss: 1.6926 - val_accuracy: 0.6565\n",
      "Epoch 64/100\n",
      "227/227 [==============================] - 95s 418ms/step - loss: 1.2155 - accuracy: 0.8086 - val_loss: 1.7462 - val_accuracy: 0.6654\n",
      "Epoch 65/100\n",
      "227/227 [==============================] - 95s 421ms/step - loss: 1.2419 - accuracy: 0.8121 - val_loss: 1.7192 - val_accuracy: 0.6676\n",
      "Epoch 66/100\n",
      "227/227 [==============================] - 94s 415ms/step - loss: 1.2215 - accuracy: 0.8182 - val_loss: 1.7085 - val_accuracy: 0.6527\n",
      "Epoch 67/100\n",
      "227/227 [==============================] - 95s 417ms/step - loss: 1.1990 - accuracy: 0.8236 - val_loss: 1.7170 - val_accuracy: 0.6610\n",
      "Epoch 68/100\n",
      "227/227 [==============================] - 95s 419ms/step - loss: 1.2121 - accuracy: 0.8180 - val_loss: 1.6882 - val_accuracy: 0.6742\n",
      "Epoch 69/100\n",
      "227/227 [==============================] - 95s 417ms/step - loss: 1.2175 - accuracy: 0.8085 - val_loss: 1.7661 - val_accuracy: 0.6615\n",
      "Epoch 70/100\n",
      "227/227 [==============================] - 96s 422ms/step - loss: 1.2045 - accuracy: 0.8179 - val_loss: 1.7181 - val_accuracy: 0.6703\n",
      "Epoch 71/100\n",
      "227/227 [==============================] - 94s 414ms/step - loss: 1.1556 - accuracy: 0.8336 - val_loss: 1.7239 - val_accuracy: 0.6742\n",
      "Epoch 72/100\n",
      "227/227 [==============================] - 95s 418ms/step - loss: 1.1573 - accuracy: 0.8273 - val_loss: 1.8539 - val_accuracy: 0.6157\n",
      "Epoch 73/100\n",
      "227/227 [==============================] - 95s 419ms/step - loss: 1.1703 - accuracy: 0.8298 - val_loss: 1.8207 - val_accuracy: 0.6455\n",
      "Epoch 74/100\n",
      "227/227 [==============================] - 95s 417ms/step - loss: 1.1788 - accuracy: 0.8288 - val_loss: 1.7391 - val_accuracy: 0.6803\n",
      "Epoch 75/100\n",
      "227/227 [==============================] - 94s 416ms/step - loss: 1.1552 - accuracy: 0.8335 - val_loss: 1.8043 - val_accuracy: 0.6477\n",
      "Epoch 76/100\n",
      "227/227 [==============================] - 95s 419ms/step - loss: 1.1350 - accuracy: 0.8338 - val_loss: 1.8033 - val_accuracy: 0.6543\n",
      "Epoch 77/100\n",
      "227/227 [==============================] - 95s 421ms/step - loss: 1.1687 - accuracy: 0.8281 - val_loss: 1.8213 - val_accuracy: 0.6549\n",
      "Epoch 78/100\n",
      "227/227 [==============================] - 95s 419ms/step - loss: 1.1373 - accuracy: 0.8338 - val_loss: 1.7994 - val_accuracy: 0.6499\n",
      "Epoch 79/100\n",
      "227/227 [==============================] - 95s 418ms/step - loss: 1.1247 - accuracy: 0.8375 - val_loss: 1.7417 - val_accuracy: 0.6543\n",
      "Epoch 80/100\n",
      "227/227 [==============================] - 95s 418ms/step - loss: 1.1020 - accuracy: 0.8454 - val_loss: 1.8309 - val_accuracy: 0.6521\n",
      "Epoch 81/100\n",
      "227/227 [==============================] - 94s 416ms/step - loss: 1.1245 - accuracy: 0.8376 - val_loss: 1.6919 - val_accuracy: 0.6687\n",
      "Epoch 82/100\n",
      "227/227 [==============================] - 96s 421ms/step - loss: 1.0932 - accuracy: 0.8491 - val_loss: 1.8041 - val_accuracy: 0.6472\n",
      "Epoch 83/100\n",
      "227/227 [==============================] - 95s 419ms/step - loss: 1.1256 - accuracy: 0.8378 - val_loss: 1.8220 - val_accuracy: 0.6665\n",
      "Epoch 84/100\n",
      "227/227 [==============================] - 97s 427ms/step - loss: 1.1026 - accuracy: 0.8447 - val_loss: 1.7459 - val_accuracy: 0.6505\n",
      "Epoch 85/100\n",
      "227/227 [==============================] - 94s 416ms/step - loss: 1.1162 - accuracy: 0.8427 - val_loss: 1.7600 - val_accuracy: 0.6720\n",
      "Epoch 86/100\n",
      "227/227 [==============================] - 95s 418ms/step - loss: 1.1107 - accuracy: 0.8455 - val_loss: 1.8638 - val_accuracy: 0.6461\n",
      "Epoch 87/100\n",
      "227/227 [==============================] - 95s 420ms/step - loss: 1.1067 - accuracy: 0.8484 - val_loss: 1.7643 - val_accuracy: 0.6709\n",
      "Epoch 88/100\n",
      "227/227 [==============================] - 95s 420ms/step - loss: 1.0523 - accuracy: 0.8604 - val_loss: 1.7671 - val_accuracy: 0.6665\n",
      "Epoch 89/100\n",
      "227/227 [==============================] - 97s 429ms/step - loss: 1.0569 - accuracy: 0.8563 - val_loss: 1.7763 - val_accuracy: 0.6665\n",
      "Epoch 90/100\n",
      "227/227 [==============================] - 95s 417ms/step - loss: 1.1048 - accuracy: 0.8480 - val_loss: 1.7895 - val_accuracy: 0.6659\n",
      "Epoch 91/100\n",
      "227/227 [==============================] - 95s 419ms/step - loss: 1.0841 - accuracy: 0.8485 - val_loss: 1.7853 - val_accuracy: 0.6571\n",
      "Epoch 92/100\n",
      "227/227 [==============================] - 95s 418ms/step - loss: 1.1000 - accuracy: 0.8512 - val_loss: 1.7715 - val_accuracy: 0.6731\n",
      "Epoch 93/100\n",
      "227/227 [==============================] - 95s 418ms/step - loss: 1.0751 - accuracy: 0.8494 - val_loss: 1.7385 - val_accuracy: 0.6654\n",
      "Epoch 94/100\n",
      "227/227 [==============================] - 95s 418ms/step - loss: 1.0611 - accuracy: 0.8548 - val_loss: 1.7690 - val_accuracy: 0.6637\n",
      "Epoch 95/100\n",
      "227/227 [==============================] - 95s 418ms/step - loss: 1.0557 - accuracy: 0.8553 - val_loss: 1.7347 - val_accuracy: 0.6698\n",
      "Epoch 96/100\n",
      "227/227 [==============================] - 96s 421ms/step - loss: 1.0520 - accuracy: 0.8577 - val_loss: 1.7159 - val_accuracy: 0.6847\n",
      "Epoch 97/100\n",
      "227/227 [==============================] - 94s 416ms/step - loss: 1.0621 - accuracy: 0.8566 - val_loss: 1.7480 - val_accuracy: 0.6648\n",
      "Epoch 98/100\n",
      "227/227 [==============================] - 95s 420ms/step - loss: 1.0553 - accuracy: 0.8599 - val_loss: 1.8236 - val_accuracy: 0.6737\n",
      "Epoch 99/100\n",
      "227/227 [==============================] - 98s 431ms/step - loss: 1.0362 - accuracy: 0.8612 - val_loss: 1.8034 - val_accuracy: 0.6764\n",
      "Epoch 100/100\n",
      "227/227 [==============================] - 97s 429ms/step - loss: 1.0207 - accuracy: 0.8665 - val_loss: 1.8670 - val_accuracy: 0.6665\n"
     ]
    },
    {
     "data": {
      "text/plain": [
       "<keras.callbacks.History at 0x1da405cc040>"
      ]
     },
     "execution_count": 39,
     "metadata": {},
     "output_type": "execute_result"
    }
   ],
   "source": [
    "model.fit(X_train, y_train, validation_data=(X_val, y_val), epochs=100, batch_size=32)"
   ]
  },
  {
   "cell_type": "markdown",
   "id": "aff3851e",
   "metadata": {},
   "source": [
    "## 5. Evaluating Model"
   ]
  },
  {
   "cell_type": "code",
   "execution_count": 40,
   "id": "f6664299",
   "metadata": {},
   "outputs": [
    {
     "name": "stdout",
     "output_type": "stream",
     "text": [
      "71/71 [==============================] - 5s 68ms/step - loss: 1.8110 - accuracy: 0.6731\n",
      "Accuracy on test set is: 0.6731448769569397\n"
     ]
    }
   ],
   "source": [
    "test_error, test_accuracy = model.evaluate(X_test, y_test, verbose=1)\n",
    "print(\"Accuracy on test set is: {}\".format(test_accuracy))"
   ]
  },
  {
   "cell_type": "markdown",
   "id": "6936699d",
   "metadata": {},
   "source": [
    "## 6. Saving Model"
   ]
  },
  {
   "cell_type": "code",
   "execution_count": 41,
   "id": "abf1380f",
   "metadata": {},
   "outputs": [],
   "source": [
    "# Save the model to a pickle file\n",
    "model_path = 'model.pkl'\n",
    "\n",
    "with open(model_path, 'wb') as f:\n",
    "    pickle.dump(model, f)"
   ]
  }
 ],
 "metadata": {
  "kernelspec": {
   "display_name": "Python 3 (ipykernel)",
   "language": "python",
   "name": "python3"
  },
  "language_info": {
   "codemirror_mode": {
    "name": "ipython",
    "version": 3
   },
   "file_extension": ".py",
   "mimetype": "text/x-python",
   "name": "python",
   "nbconvert_exporter": "python",
   "pygments_lexer": "ipython3",
   "version": "3.10.9"
  }
 },
 "nbformat": 4,
 "nbformat_minor": 5
}
